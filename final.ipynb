{
 "cells": [
  {
   "cell_type": "code",
   "execution_count": 31,
   "metadata": {
    "collapsed": true
   },
   "outputs": [],
   "source": [
    "from sklearn import datasets\n",
    "from sklearn.linear_model import LogisticRegression\n",
    "import numpy as np\n",
    "import pandas as pd\n",
    "data = pd.read_csv('x_y_train.csv')\n",
    "df = data.copy()\n",
    "del df['Name']\n",
    "del df['Ticket']\n",
    "del df['Cabin']\n",
    "del df['Fare']\n",
    "df.Age.fillna(df.Age.mean(),inplace=True)\n",
    "def func(s):\n",
    "    if s==\"male\":\n",
    "        return 0\n",
    "    else:\n",
    "        return 1\n",
    "df['Gender'] = df.Sex.apply(func)\n",
    "del df['Sex']\n",
    "def f(s):\n",
    "    if s=='S':\n",
    "        return 0\n",
    "    elif s=='Q':\n",
    "        return 1\n",
    "    else:\n",
    "        return 2\n",
    "df['Embarkation_port'] = df.Embarked.apply(f)\n",
    "del df['Embarked']"
   ]
  },
  {
   "cell_type": "code",
   "execution_count": 32,
   "metadata": {},
   "outputs": [],
   "source": [
    "data_new = df.copy()\n",
    "cols = df.columns.tolist()\n",
    "df['survived'] = df['Survived']\n",
    "del df['Survived']\n",
    "df['Survived'] = df['survived']\n",
    "del df['survived']\n",
    "#df.to_csv('x_y_train2.csv',index=False)"
   ]
  },
  {
   "cell_type": "code",
   "execution_count": 33,
   "metadata": {},
   "outputs": [
    {
     "data": {
      "text/plain": [
       "LogisticRegression(C=1.0, class_weight=None, dual=False, fit_intercept=True,\n",
       "          intercept_scaling=1, max_iter=100, multi_class='ovr', n_jobs=1,\n",
       "          penalty='l2', random_state=None, solver='liblinear', tol=0.0001,\n",
       "          verbose=0, warm_start=False)"
      ]
     },
     "execution_count": 33,
     "metadata": {},
     "output_type": "execute_result"
    }
   ],
   "source": [
    "X_train = df.loc[:,'Pclass':'Embarkation_port']\n",
    "Y_train = df.loc[:,'Survived']\n",
    "\n",
    "clf = LogisticRegression()\n",
    "clf.fit(X_train, Y_train)"
   ]
  },
  {
   "cell_type": "code",
   "execution_count": 34,
   "metadata": {},
   "outputs": [],
   "source": [
    "dft = pd.read_csv('x_test.csv')\n",
    "dfte = dft.copy()\n",
    "del dfte['Name']\n",
    "del dfte['Ticket']\n",
    "del dfte['Fare']\n",
    "del dfte['Cabin']\n",
    "dfte.Age.fillna(dfte.Age.mean(),inplace = True)\n",
    "def func(s):\n",
    "    if s=='male':\n",
    "        return 0\n",
    "    else:\n",
    "        return 1\n",
    "dfte[\"Gender\"] = dfte.Sex.apply(func)\n",
    "del dfte['Sex']\n",
    "def fun(s):\n",
    "    if s=='S':\n",
    "        return 0\n",
    "    elif s=='Q':\n",
    "        return 1\n",
    "    else:\n",
    "        return 2\n",
    "dfte[\"Embarkation_port\"] = dfte.Embarked.apply(fun)\n",
    "del dfte['Embarked']\n"
   ]
  },
  {
   "cell_type": "code",
   "execution_count": 35,
   "metadata": {},
   "outputs": [],
   "source": [
    "X_test = dfte"
   ]
  },
  {
   "cell_type": "code",
   "execution_count": 38,
   "metadata": {},
   "outputs": [],
   "source": [
    "Y_pred = clf.predict(X_test)\n",
    "np.savetxt('y_pred1.csv',Y_pred,delimiter=\",\")"
   ]
  }
 ],
 "metadata": {
  "kernelspec": {
   "display_name": "Python 3",
   "language": "python",
   "name": "python3"
  },
  "language_info": {
   "codemirror_mode": {
    "name": "ipython",
    "version": 3
   },
   "file_extension": ".py",
   "mimetype": "text/x-python",
   "name": "python",
   "nbconvert_exporter": "python",
   "pygments_lexer": "ipython3",
   "version": "3.6.3"
  }
 },
 "nbformat": 4,
 "nbformat_minor": 2
}
